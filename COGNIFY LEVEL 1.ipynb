{
 "cells": [
  {
   "cell_type": "markdown",
   "id": "07eb04a0-5c1a-47a9-8349-57fcd847ec80",
   "metadata": {},
   "source": [
    "# LEVEL 1"
   ]
  },
  {
   "cell_type": "code",
   "execution_count": 1,
   "id": "623af7a3-576b-40e8-881c-b03bc8178c75",
   "metadata": {},
   "outputs": [
    {
     "data": {
      "text/html": [
       "<div>\n",
       "<style scoped>\n",
       "    .dataframe tbody tr th:only-of-type {\n",
       "        vertical-align: middle;\n",
       "    }\n",
       "\n",
       "    .dataframe tbody tr th {\n",
       "        vertical-align: top;\n",
       "    }\n",
       "\n",
       "    .dataframe thead th {\n",
       "        text-align: right;\n",
       "    }\n",
       "</style>\n",
       "<table border=\"1\" class=\"dataframe\">\n",
       "  <thead>\n",
       "    <tr style=\"text-align: right;\">\n",
       "      <th></th>\n",
       "      <th>Restaurant ID</th>\n",
       "      <th>Restaurant Name</th>\n",
       "      <th>Country Code</th>\n",
       "      <th>City</th>\n",
       "      <th>Address</th>\n",
       "      <th>Locality</th>\n",
       "      <th>Locality Verbose</th>\n",
       "      <th>Longitude</th>\n",
       "      <th>Latitude</th>\n",
       "      <th>Cuisines</th>\n",
       "      <th>Average Cost for two</th>\n",
       "      <th>Currency</th>\n",
       "      <th>Has Table booking</th>\n",
       "      <th>Has Online delivery</th>\n",
       "      <th>Is delivering now</th>\n",
       "      <th>Switch to order menu</th>\n",
       "      <th>Price range</th>\n",
       "      <th>Aggregate rating</th>\n",
       "      <th>Rating color</th>\n",
       "      <th>Rating text</th>\n",
       "      <th>Votes</th>\n",
       "    </tr>\n",
       "  </thead>\n",
       "  <tbody>\n",
       "    <tr>\n",
       "      <th>0</th>\n",
       "      <td>6317637</td>\n",
       "      <td>Le Petit Souffle</td>\n",
       "      <td>162</td>\n",
       "      <td>Makati City</td>\n",
       "      <td>Third Floor, Century City Mall, Kalayaan Avenu...</td>\n",
       "      <td>Century City Mall, Poblacion, Makati City</td>\n",
       "      <td>Century City Mall, Poblacion, Makati City, Mak...</td>\n",
       "      <td>121.027535</td>\n",
       "      <td>14.565443</td>\n",
       "      <td>French, Japanese, Desserts</td>\n",
       "      <td>1100</td>\n",
       "      <td>Botswana Pula(P)</td>\n",
       "      <td>Yes</td>\n",
       "      <td>No</td>\n",
       "      <td>No</td>\n",
       "      <td>No</td>\n",
       "      <td>3</td>\n",
       "      <td>4.8</td>\n",
       "      <td>Dark Green</td>\n",
       "      <td>Excellent</td>\n",
       "      <td>314</td>\n",
       "    </tr>\n",
       "    <tr>\n",
       "      <th>1</th>\n",
       "      <td>6304287</td>\n",
       "      <td>Izakaya Kikufuji</td>\n",
       "      <td>162</td>\n",
       "      <td>Makati City</td>\n",
       "      <td>Little Tokyo, 2277 Chino Roces Avenue, Legaspi...</td>\n",
       "      <td>Little Tokyo, Legaspi Village, Makati City</td>\n",
       "      <td>Little Tokyo, Legaspi Village, Makati City, Ma...</td>\n",
       "      <td>121.014101</td>\n",
       "      <td>14.553708</td>\n",
       "      <td>Japanese</td>\n",
       "      <td>1200</td>\n",
       "      <td>Botswana Pula(P)</td>\n",
       "      <td>Yes</td>\n",
       "      <td>No</td>\n",
       "      <td>No</td>\n",
       "      <td>No</td>\n",
       "      <td>3</td>\n",
       "      <td>4.5</td>\n",
       "      <td>Dark Green</td>\n",
       "      <td>Excellent</td>\n",
       "      <td>591</td>\n",
       "    </tr>\n",
       "    <tr>\n",
       "      <th>2</th>\n",
       "      <td>6300002</td>\n",
       "      <td>Heat - Edsa Shangri-La</td>\n",
       "      <td>162</td>\n",
       "      <td>Mandaluyong City</td>\n",
       "      <td>Edsa Shangri-La, 1 Garden Way, Ortigas, Mandal...</td>\n",
       "      <td>Edsa Shangri-La, Ortigas, Mandaluyong City</td>\n",
       "      <td>Edsa Shangri-La, Ortigas, Mandaluyong City, Ma...</td>\n",
       "      <td>121.056831</td>\n",
       "      <td>14.581404</td>\n",
       "      <td>Seafood, Asian, Filipino, Indian</td>\n",
       "      <td>4000</td>\n",
       "      <td>Botswana Pula(P)</td>\n",
       "      <td>Yes</td>\n",
       "      <td>No</td>\n",
       "      <td>No</td>\n",
       "      <td>No</td>\n",
       "      <td>4</td>\n",
       "      <td>4.4</td>\n",
       "      <td>Green</td>\n",
       "      <td>Very Good</td>\n",
       "      <td>270</td>\n",
       "    </tr>\n",
       "    <tr>\n",
       "      <th>3</th>\n",
       "      <td>6318506</td>\n",
       "      <td>Ooma</td>\n",
       "      <td>162</td>\n",
       "      <td>Mandaluyong City</td>\n",
       "      <td>Third Floor, Mega Fashion Hall, SM Megamall, O...</td>\n",
       "      <td>SM Megamall, Ortigas, Mandaluyong City</td>\n",
       "      <td>SM Megamall, Ortigas, Mandaluyong City, Mandal...</td>\n",
       "      <td>121.056475</td>\n",
       "      <td>14.585318</td>\n",
       "      <td>Japanese, Sushi</td>\n",
       "      <td>1500</td>\n",
       "      <td>Botswana Pula(P)</td>\n",
       "      <td>No</td>\n",
       "      <td>No</td>\n",
       "      <td>No</td>\n",
       "      <td>No</td>\n",
       "      <td>4</td>\n",
       "      <td>4.9</td>\n",
       "      <td>Dark Green</td>\n",
       "      <td>Excellent</td>\n",
       "      <td>365</td>\n",
       "    </tr>\n",
       "    <tr>\n",
       "      <th>4</th>\n",
       "      <td>6314302</td>\n",
       "      <td>Sambo Kojin</td>\n",
       "      <td>162</td>\n",
       "      <td>Mandaluyong City</td>\n",
       "      <td>Third Floor, Mega Atrium, SM Megamall, Ortigas...</td>\n",
       "      <td>SM Megamall, Ortigas, Mandaluyong City</td>\n",
       "      <td>SM Megamall, Ortigas, Mandaluyong City, Mandal...</td>\n",
       "      <td>121.057508</td>\n",
       "      <td>14.584450</td>\n",
       "      <td>Japanese, Korean</td>\n",
       "      <td>1500</td>\n",
       "      <td>Botswana Pula(P)</td>\n",
       "      <td>Yes</td>\n",
       "      <td>No</td>\n",
       "      <td>No</td>\n",
       "      <td>No</td>\n",
       "      <td>4</td>\n",
       "      <td>4.8</td>\n",
       "      <td>Dark Green</td>\n",
       "      <td>Excellent</td>\n",
       "      <td>229</td>\n",
       "    </tr>\n",
       "    <tr>\n",
       "      <th>...</th>\n",
       "      <td>...</td>\n",
       "      <td>...</td>\n",
       "      <td>...</td>\n",
       "      <td>...</td>\n",
       "      <td>...</td>\n",
       "      <td>...</td>\n",
       "      <td>...</td>\n",
       "      <td>...</td>\n",
       "      <td>...</td>\n",
       "      <td>...</td>\n",
       "      <td>...</td>\n",
       "      <td>...</td>\n",
       "      <td>...</td>\n",
       "      <td>...</td>\n",
       "      <td>...</td>\n",
       "      <td>...</td>\n",
       "      <td>...</td>\n",
       "      <td>...</td>\n",
       "      <td>...</td>\n",
       "      <td>...</td>\n",
       "      <td>...</td>\n",
       "    </tr>\n",
       "    <tr>\n",
       "      <th>9546</th>\n",
       "      <td>5915730</td>\n",
       "      <td>Naml۱ Gurme</td>\n",
       "      <td>208</td>\n",
       "      <td>��stanbul</td>\n",
       "      <td>Kemanke�� Karamustafa Pa��a Mahallesi, R۱ht۱m ...</td>\n",
       "      <td>Karak�_y</td>\n",
       "      <td>Karak�_y, ��stanbul</td>\n",
       "      <td>28.977392</td>\n",
       "      <td>41.022793</td>\n",
       "      <td>Turkish</td>\n",
       "      <td>80</td>\n",
       "      <td>Turkish Lira(TL)</td>\n",
       "      <td>No</td>\n",
       "      <td>No</td>\n",
       "      <td>No</td>\n",
       "      <td>No</td>\n",
       "      <td>3</td>\n",
       "      <td>4.1</td>\n",
       "      <td>Green</td>\n",
       "      <td>Very Good</td>\n",
       "      <td>788</td>\n",
       "    </tr>\n",
       "    <tr>\n",
       "      <th>9547</th>\n",
       "      <td>5908749</td>\n",
       "      <td>Ceviz A��ac۱</td>\n",
       "      <td>208</td>\n",
       "      <td>��stanbul</td>\n",
       "      <td>Ko��uyolu Mahallesi, Muhittin ��st�_nda�� Cadd...</td>\n",
       "      <td>Ko��uyolu</td>\n",
       "      <td>Ko��uyolu, ��stanbul</td>\n",
       "      <td>29.041297</td>\n",
       "      <td>41.009847</td>\n",
       "      <td>World Cuisine, Patisserie, Cafe</td>\n",
       "      <td>105</td>\n",
       "      <td>Turkish Lira(TL)</td>\n",
       "      <td>No</td>\n",
       "      <td>No</td>\n",
       "      <td>No</td>\n",
       "      <td>No</td>\n",
       "      <td>3</td>\n",
       "      <td>4.2</td>\n",
       "      <td>Green</td>\n",
       "      <td>Very Good</td>\n",
       "      <td>1034</td>\n",
       "    </tr>\n",
       "    <tr>\n",
       "      <th>9548</th>\n",
       "      <td>5915807</td>\n",
       "      <td>Huqqa</td>\n",
       "      <td>208</td>\n",
       "      <td>��stanbul</td>\n",
       "      <td>Kuru�_e��me Mahallesi, Muallim Naci Caddesi, N...</td>\n",
       "      <td>Kuru�_e��me</td>\n",
       "      <td>Kuru�_e��me, ��stanbul</td>\n",
       "      <td>29.034640</td>\n",
       "      <td>41.055817</td>\n",
       "      <td>Italian, World Cuisine</td>\n",
       "      <td>170</td>\n",
       "      <td>Turkish Lira(TL)</td>\n",
       "      <td>No</td>\n",
       "      <td>No</td>\n",
       "      <td>No</td>\n",
       "      <td>No</td>\n",
       "      <td>4</td>\n",
       "      <td>3.7</td>\n",
       "      <td>Yellow</td>\n",
       "      <td>Good</td>\n",
       "      <td>661</td>\n",
       "    </tr>\n",
       "    <tr>\n",
       "      <th>9549</th>\n",
       "      <td>5916112</td>\n",
       "      <td>A���k Kahve</td>\n",
       "      <td>208</td>\n",
       "      <td>��stanbul</td>\n",
       "      <td>Kuru�_e��me Mahallesi, Muallim Naci Caddesi, N...</td>\n",
       "      <td>Kuru�_e��me</td>\n",
       "      <td>Kuru�_e��me, ��stanbul</td>\n",
       "      <td>29.036019</td>\n",
       "      <td>41.057979</td>\n",
       "      <td>Restaurant Cafe</td>\n",
       "      <td>120</td>\n",
       "      <td>Turkish Lira(TL)</td>\n",
       "      <td>No</td>\n",
       "      <td>No</td>\n",
       "      <td>No</td>\n",
       "      <td>No</td>\n",
       "      <td>4</td>\n",
       "      <td>4.0</td>\n",
       "      <td>Green</td>\n",
       "      <td>Very Good</td>\n",
       "      <td>901</td>\n",
       "    </tr>\n",
       "    <tr>\n",
       "      <th>9550</th>\n",
       "      <td>5927402</td>\n",
       "      <td>Walter's Coffee Roastery</td>\n",
       "      <td>208</td>\n",
       "      <td>��stanbul</td>\n",
       "      <td>Cafea��a Mahallesi, Bademalt۱ Sokak, No 21/B, ...</td>\n",
       "      <td>Moda</td>\n",
       "      <td>Moda, ��stanbul</td>\n",
       "      <td>29.026016</td>\n",
       "      <td>40.984776</td>\n",
       "      <td>Cafe</td>\n",
       "      <td>55</td>\n",
       "      <td>Turkish Lira(TL)</td>\n",
       "      <td>No</td>\n",
       "      <td>No</td>\n",
       "      <td>No</td>\n",
       "      <td>No</td>\n",
       "      <td>2</td>\n",
       "      <td>4.0</td>\n",
       "      <td>Green</td>\n",
       "      <td>Very Good</td>\n",
       "      <td>591</td>\n",
       "    </tr>\n",
       "  </tbody>\n",
       "</table>\n",
       "<p>9551 rows × 21 columns</p>\n",
       "</div>"
      ],
      "text/plain": [
       "      Restaurant ID           Restaurant Name  Country Code              City  \\\n",
       "0           6317637          Le Petit Souffle           162       Makati City   \n",
       "1           6304287          Izakaya Kikufuji           162       Makati City   \n",
       "2           6300002    Heat - Edsa Shangri-La           162  Mandaluyong City   \n",
       "3           6318506                      Ooma           162  Mandaluyong City   \n",
       "4           6314302               Sambo Kojin           162  Mandaluyong City   \n",
       "...             ...                       ...           ...               ...   \n",
       "9546        5915730               Naml۱ Gurme           208         ��stanbul   \n",
       "9547        5908749              Ceviz A��ac۱           208         ��stanbul   \n",
       "9548        5915807                     Huqqa           208         ��stanbul   \n",
       "9549        5916112               A���k Kahve           208         ��stanbul   \n",
       "9550        5927402  Walter's Coffee Roastery           208         ��stanbul   \n",
       "\n",
       "                                                Address  \\\n",
       "0     Third Floor, Century City Mall, Kalayaan Avenu...   \n",
       "1     Little Tokyo, 2277 Chino Roces Avenue, Legaspi...   \n",
       "2     Edsa Shangri-La, 1 Garden Way, Ortigas, Mandal...   \n",
       "3     Third Floor, Mega Fashion Hall, SM Megamall, O...   \n",
       "4     Third Floor, Mega Atrium, SM Megamall, Ortigas...   \n",
       "...                                                 ...   \n",
       "9546  Kemanke�� Karamustafa Pa��a Mahallesi, R۱ht۱m ...   \n",
       "9547  Ko��uyolu Mahallesi, Muhittin ��st�_nda�� Cadd...   \n",
       "9548  Kuru�_e��me Mahallesi, Muallim Naci Caddesi, N...   \n",
       "9549  Kuru�_e��me Mahallesi, Muallim Naci Caddesi, N...   \n",
       "9550  Cafea��a Mahallesi, Bademalt۱ Sokak, No 21/B, ...   \n",
       "\n",
       "                                        Locality  \\\n",
       "0      Century City Mall, Poblacion, Makati City   \n",
       "1     Little Tokyo, Legaspi Village, Makati City   \n",
       "2     Edsa Shangri-La, Ortigas, Mandaluyong City   \n",
       "3         SM Megamall, Ortigas, Mandaluyong City   \n",
       "4         SM Megamall, Ortigas, Mandaluyong City   \n",
       "...                                          ...   \n",
       "9546                                    Karak�_y   \n",
       "9547                                   Ko��uyolu   \n",
       "9548                                 Kuru�_e��me   \n",
       "9549                                 Kuru�_e��me   \n",
       "9550                                        Moda   \n",
       "\n",
       "                                       Locality Verbose   Longitude  \\\n",
       "0     Century City Mall, Poblacion, Makati City, Mak...  121.027535   \n",
       "1     Little Tokyo, Legaspi Village, Makati City, Ma...  121.014101   \n",
       "2     Edsa Shangri-La, Ortigas, Mandaluyong City, Ma...  121.056831   \n",
       "3     SM Megamall, Ortigas, Mandaluyong City, Mandal...  121.056475   \n",
       "4     SM Megamall, Ortigas, Mandaluyong City, Mandal...  121.057508   \n",
       "...                                                 ...         ...   \n",
       "9546                                Karak�_y, ��stanbul   28.977392   \n",
       "9547                               Ko��uyolu, ��stanbul   29.041297   \n",
       "9548                             Kuru�_e��me, ��stanbul   29.034640   \n",
       "9549                             Kuru�_e��me, ��stanbul   29.036019   \n",
       "9550                                    Moda, ��stanbul   29.026016   \n",
       "\n",
       "       Latitude                          Cuisines  Average Cost for two  \\\n",
       "0     14.565443        French, Japanese, Desserts                  1100   \n",
       "1     14.553708                          Japanese                  1200   \n",
       "2     14.581404  Seafood, Asian, Filipino, Indian                  4000   \n",
       "3     14.585318                   Japanese, Sushi                  1500   \n",
       "4     14.584450                  Japanese, Korean                  1500   \n",
       "...         ...                               ...                   ...   \n",
       "9546  41.022793                           Turkish                    80   \n",
       "9547  41.009847   World Cuisine, Patisserie, Cafe                   105   \n",
       "9548  41.055817            Italian, World Cuisine                   170   \n",
       "9549  41.057979                   Restaurant Cafe                   120   \n",
       "9550  40.984776                              Cafe                    55   \n",
       "\n",
       "              Currency Has Table booking Has Online delivery  \\\n",
       "0     Botswana Pula(P)               Yes                  No   \n",
       "1     Botswana Pula(P)               Yes                  No   \n",
       "2     Botswana Pula(P)               Yes                  No   \n",
       "3     Botswana Pula(P)                No                  No   \n",
       "4     Botswana Pula(P)               Yes                  No   \n",
       "...                ...               ...                 ...   \n",
       "9546  Turkish Lira(TL)                No                  No   \n",
       "9547  Turkish Lira(TL)                No                  No   \n",
       "9548  Turkish Lira(TL)                No                  No   \n",
       "9549  Turkish Lira(TL)                No                  No   \n",
       "9550  Turkish Lira(TL)                No                  No   \n",
       "\n",
       "     Is delivering now Switch to order menu  Price range  Aggregate rating  \\\n",
       "0                   No                   No            3               4.8   \n",
       "1                   No                   No            3               4.5   \n",
       "2                   No                   No            4               4.4   \n",
       "3                   No                   No            4               4.9   \n",
       "4                   No                   No            4               4.8   \n",
       "...                ...                  ...          ...               ...   \n",
       "9546                No                   No            3               4.1   \n",
       "9547                No                   No            3               4.2   \n",
       "9548                No                   No            4               3.7   \n",
       "9549                No                   No            4               4.0   \n",
       "9550                No                   No            2               4.0   \n",
       "\n",
       "     Rating color Rating text  Votes  \n",
       "0      Dark Green   Excellent    314  \n",
       "1      Dark Green   Excellent    591  \n",
       "2           Green   Very Good    270  \n",
       "3      Dark Green   Excellent    365  \n",
       "4      Dark Green   Excellent    229  \n",
       "...           ...         ...    ...  \n",
       "9546        Green   Very Good    788  \n",
       "9547        Green   Very Good   1034  \n",
       "9548       Yellow        Good    661  \n",
       "9549        Green   Very Good    901  \n",
       "9550        Green   Very Good    591  \n",
       "\n",
       "[9551 rows x 21 columns]"
      ]
     },
     "execution_count": 1,
     "metadata": {},
     "output_type": "execute_result"
    }
   ],
   "source": [
    "#    IMPORTING NECCESSARY LIBRARIES\n",
    "import pandas as pd\n",
    "import numpy as np\n",
    "import matplotlib.pyplot as plt\n",
    "import seaborn as sns\n",
    "\n",
    "\n",
    "# LOADING THE DATASET\n",
    "df = pd.read_csv('cognify.csv')\n",
    "pd.set_option('display.max_columns', None)\n",
    "df\n"
   ]
  },
  {
   "cell_type": "code",
   "execution_count": null,
   "id": "3407e6f1-dd3f-4c20-a874-4a9317eb6463",
   "metadata": {},
   "outputs": [],
   "source": []
  },
  {
   "cell_type": "code",
   "execution_count": 2,
   "id": "3d9bf543-138a-4bdf-998f-d13029bd91d2",
   "metadata": {},
   "outputs": [
    {
     "name": "stdout",
     "output_type": "stream",
     "text": [
      "<class 'pandas.core.frame.DataFrame'>\n",
      "RangeIndex: 9551 entries, 0 to 9550\n",
      "Data columns (total 21 columns):\n",
      " #   Column                Non-Null Count  Dtype  \n",
      "---  ------                --------------  -----  \n",
      " 0   Restaurant ID         9551 non-null   int64  \n",
      " 1   Restaurant Name       9551 non-null   object \n",
      " 2   Country Code          9551 non-null   int64  \n",
      " 3   City                  9551 non-null   object \n",
      " 4   Address               9551 non-null   object \n",
      " 5   Locality              9551 non-null   object \n",
      " 6   Locality Verbose      9551 non-null   object \n",
      " 7   Longitude             9551 non-null   float64\n",
      " 8   Latitude              9551 non-null   float64\n",
      " 9   Cuisines              9542 non-null   object \n",
      " 10  Average Cost for two  9551 non-null   int64  \n",
      " 11  Currency              9551 non-null   object \n",
      " 12  Has Table booking     9551 non-null   object \n",
      " 13  Has Online delivery   9551 non-null   object \n",
      " 14  Is delivering now     9551 non-null   object \n",
      " 15  Switch to order menu  9551 non-null   object \n",
      " 16  Price range           9551 non-null   int64  \n",
      " 17  Aggregate rating      9551 non-null   float64\n",
      " 18  Rating color          9551 non-null   object \n",
      " 19  Rating text           9551 non-null   object \n",
      " 20  Votes                 9551 non-null   int64  \n",
      "dtypes: float64(3), int64(5), object(13)\n",
      "memory usage: 1.5+ MB\n"
     ]
    }
   ],
   "source": [
    "# CHECKING DATASET INFORMATION\n",
    "df.info()"
   ]
  },
  {
   "cell_type": "code",
   "execution_count": 3,
   "id": "62e80ece-f54c-4531-aa17-1faaed29cfc3",
   "metadata": {},
   "outputs": [
    {
     "data": {
      "text/plain": [
       "Restaurant ID           0\n",
       "Restaurant Name         0\n",
       "Country Code            0\n",
       "City                    0\n",
       "Address                 0\n",
       "Locality                0\n",
       "Locality Verbose        0\n",
       "Longitude               0\n",
       "Latitude                0\n",
       "Cuisines                9\n",
       "Average Cost for two    0\n",
       "Currency                0\n",
       "Has Table booking       0\n",
       "Has Online delivery     0\n",
       "Is delivering now       0\n",
       "Switch to order menu    0\n",
       "Price range             0\n",
       "Aggregate rating        0\n",
       "Rating color            0\n",
       "Rating text             0\n",
       "Votes                   0\n",
       "dtype: int64"
      ]
     },
     "execution_count": 3,
     "metadata": {},
     "output_type": "execute_result"
    }
   ],
   "source": [
    "# CHECKING FOR MISSING VALUES IN THE DATASET\n",
    "df.isna().sum()\n"
   ]
  },
  {
   "cell_type": "code",
   "execution_count": 4,
   "id": "8ba2318e-839b-4932-a6a4-7cc5ff409634",
   "metadata": {},
   "outputs": [
    {
     "data": {
      "text/plain": [
       "Restaurant ID           0\n",
       "Restaurant Name         0\n",
       "Country Code            0\n",
       "City                    0\n",
       "Address                 0\n",
       "Locality                0\n",
       "Locality Verbose        0\n",
       "Longitude               0\n",
       "Latitude                0\n",
       "Cuisines                0\n",
       "Average Cost for two    0\n",
       "Currency                0\n",
       "Has Table booking       0\n",
       "Has Online delivery     0\n",
       "Is delivering now       0\n",
       "Switch to order menu    0\n",
       "Price range             0\n",
       "Aggregate rating        0\n",
       "Rating color            0\n",
       "Rating text             0\n",
       "Votes                   0\n",
       "dtype: int64"
      ]
     },
     "execution_count": 4,
     "metadata": {},
     "output_type": "execute_result"
    }
   ],
   "source": [
    "# HANDLE MISSING VALUES\n",
    "df.dropna(subset=['Cuisines'], inplace=True)\n",
    "# CHECKING FOR THE HANDLED MISSING VAULES\n",
    "df.isna().sum()\n"
   ]
  },
  {
   "cell_type": "markdown",
   "id": "93fccd20-54ae-47c2-927a-827f1c588729",
   "metadata": {},
   "source": [
    "# Task 1: Top Cuisines"
   ]
  },
  {
   "cell_type": "markdown",
   "id": "cf2c2ae5-61d6-464d-941d-00c79dedbac2",
   "metadata": {},
   "source": [
    "# 1a.) Determine the top three most common cuisines in the dataset."
   ]
  },
  {
   "cell_type": "code",
   "execution_count": 5,
   "id": "e42df1ae-5afc-4ff6-947e-7762a4287ee8",
   "metadata": {},
   "outputs": [
    {
     "name": "stdout",
     "output_type": "stream",
     "text": [
      "Top Three Most Common Cuisines:\n"
     ]
    },
    {
     "data": {
      "text/plain": [
       "Cuisines\n",
       "North Indian    2992\n",
       " Chinese        1880\n",
       " Fast Food      1314\n",
       "Name: count, dtype: int64"
      ]
     },
     "execution_count": 5,
     "metadata": {},
     "output_type": "execute_result"
    }
   ],
   "source": [
    "#  split the cuisines and count occurrences\n",
    "Top3_cuisines = df['Cuisines'].str.split(',').explode().value_counts()\n",
    "\n",
    "# Get the top three most common cuisines\n",
    "Top3_cuisines = Top3_cuisines.head(3)\n",
    "\n",
    "#Display results\n",
    "print ('Top Three Most Common Cuisines:')\n",
    "Top3_cuisines"
   ]
  },
  {
   "cell_type": "markdown",
   "id": "c4e14d88-847e-419a-887e-5dafaac4e42f",
   "metadata": {},
   "source": [
    "# 1b.) Calculate the percentage of restaurants that serve each of the top cuisines"
   ]
  },
  {
   "cell_type": "code",
   "execution_count": 6,
   "id": "13a3b27a-f8a9-4248-b8df-68a0ff7dde6e",
   "metadata": {},
   "outputs": [
    {
     "name": "stdout",
     "output_type": "stream",
     "text": [
      "Top 3 Most Common Cuisines:\n",
      "Cuisines\n",
      "North Indian    2992\n",
      " Chinese        1880\n",
      " Fast Food      1314\n",
      "Name: count, dtype: int64\n",
      "--------------------------------------------------------\n",
      "Percentage of Restaurants Serving Each of the Top 3 Cuisine:\n",
      "Cuisines\n",
      "North Indian    31.4%\n",
      " Chinese        19.7%\n",
      " Fast Food      13.8%\n",
      "Name: count, dtype: object\n"
     ]
    }
   ],
   "source": [
    "# Counting the restuarants \n",
    "Count_Restaurants = df['Restaurant Name'].count()\n",
    "\n",
    "#calculating the percentage\n",
    "\n",
    "percentage_Restaurants = ( Top3_cuisines/Count_Restaurants ) * 100\n",
    "    \n",
    "#Display results\n",
    "print(\"Top 3 Most Common Cuisines:\")\n",
    "print(Top3_cuisines)\n",
    "print('--------------------------------------------------------')\n",
    "print(\"Percentage of Restaurants Serving Each of the Top 3 Cuisine:\")\n",
    "print(percentage_Restaurants.round(1).astype(str) + \"%\")"
   ]
  },
  {
   "cell_type": "markdown",
   "id": "921a840c-f85b-46d7-a86d-dd503db55977",
   "metadata": {},
   "source": [
    "# Task 2: City Analysis"
   ]
  },
  {
   "cell_type": "markdown",
   "id": "c49a0687-72c8-4f1a-bc32-c5290dd33945",
   "metadata": {},
   "source": [
    "# 2a.) Identify the city with the highest number of restaurants in the dataset.\n"
   ]
  },
  {
   "cell_type": "code",
   "execution_count": 7,
   "id": "a0f3936a-f03b-435a-981a-1b6ad46c8a72",
   "metadata": {},
   "outputs": [
    {
     "name": "stdout",
     "output_type": "stream",
     "text": [
      "The city with the highest number of restaurants is: New Delhi with a total of : 5473 Restaurants\n"
     ]
    }
   ],
   "source": [
    "\n",
    "# Identify the city with the highest number of restaurants\n",
    "city_counts = df[\"City\"].value_counts()\n",
    "\n",
    "# Get the city with the maximum number of restaurants\n",
    "top_city = city_counts.idxmax()\n",
    "top_city_count = city_counts.max()\n",
    "\n",
    "# Display the result\n",
    "print(f\"The city with the highest number of restaurants is: {top_city} with a total of : {top_city_count} Restaurants\")\n"
   ]
  },
  {
   "cell_type": "markdown",
   "id": "c8d964d4-0732-45fb-8178-15209f78f64c",
   "metadata": {},
   "source": [
    "# 2b.) Calculate the average rating for restaurants in each city."
   ]
  },
  {
   "cell_type": "code",
   "execution_count": 8,
   "id": "f87de4f8-9fa2-4a10-9e32-772b4e1975ea",
   "metadata": {},
   "outputs": [
    {
     "data": {
      "image/png": "[encoded data removed]",
      "text/plain": [
       "<Figure size 1200x500 with 2 Axes>"
      ]
     },
     "metadata": {},
     "output_type": "display_data"
    },
    {
     "data": {
      "text/html": [
       "<div>\n",
       "<style scoped>\n",
       "    .dataframe tbody tr th:only-of-type {\n",
       "        vertical-align: middle;\n",
       "    }\n",
       "\n",
       "    .dataframe tbody tr th {\n",
       "        vertical-align: top;\n",
       "    }\n",
       "\n",
       "    .dataframe thead th {\n",
       "        text-align: right;\n",
       "    }\n",
       "</style>\n",
       "<table border=\"1\" class=\"dataframe\">\n",
       "  <thead>\n",
       "    <tr style=\"text-align: right;\">\n",
       "      <th></th>\n",
       "      <th>Aggregate rating</th>\n",
       "    </tr>\n",
       "    <tr>\n",
       "      <th>City</th>\n",
       "      <th></th>\n",
       "    </tr>\n",
       "  </thead>\n",
       "  <tbody>\n",
       "    <tr>\n",
       "      <th>Inner City</th>\n",
       "      <td>4.900000</td>\n",
       "    </tr>\n",
       "    <tr>\n",
       "      <th>Quezon City</th>\n",
       "      <td>4.800000</td>\n",
       "    </tr>\n",
       "    <tr>\n",
       "      <th>Makati City</th>\n",
       "      <td>4.650000</td>\n",
       "    </tr>\n",
       "    <tr>\n",
       "      <th>Pasig City</th>\n",
       "      <td>4.633333</td>\n",
       "    </tr>\n",
       "    <tr>\n",
       "      <th>Mandaluyong City</th>\n",
       "      <td>4.625000</td>\n",
       "    </tr>\n",
       "    <tr>\n",
       "      <th>...</th>\n",
       "      <td>...</td>\n",
       "    </tr>\n",
       "    <tr>\n",
       "      <th>New Delhi</th>\n",
       "      <td>2.438845</td>\n",
       "    </tr>\n",
       "    <tr>\n",
       "      <th>Montville</th>\n",
       "      <td>2.400000</td>\n",
       "    </tr>\n",
       "    <tr>\n",
       "      <th>Mc Millan</th>\n",
       "      <td>2.400000</td>\n",
       "    </tr>\n",
       "    <tr>\n",
       "      <th>Noida</th>\n",
       "      <td>2.036204</td>\n",
       "    </tr>\n",
       "    <tr>\n",
       "      <th>Faridabad</th>\n",
       "      <td>1.866932</td>\n",
       "    </tr>\n",
       "  </tbody>\n",
       "</table>\n",
       "<p>140 rows × 1 columns</p>\n",
       "</div>"
      ],
      "text/plain": [
       "                  Aggregate rating\n",
       "City                              \n",
       "Inner City                4.900000\n",
       "Quezon City               4.800000\n",
       "Makati City               4.650000\n",
       "Pasig City                4.633333\n",
       "Mandaluyong City          4.625000\n",
       "...                            ...\n",
       "New Delhi                 2.438845\n",
       "Montville                 2.400000\n",
       "Mc Millan                 2.400000\n",
       "Noida                     2.036204\n",
       "Faridabad                 1.866932\n",
       "\n",
       "[140 rows x 1 columns]"
      ]
     },
     "execution_count": 8,
     "metadata": {},
     "output_type": "execute_result"
    }
   ],
   "source": [
    "# Convert \"Aggregate rating\" to numeric, handling errors if any non-numeric values exist\n",
    "df[\"Aggregate rating\"] = pd.to_numeric(df[\"Aggregate rating\"], errors=\"coerce\")\n",
    "\n",
    "# Calculate the average rating for restaurants in each city\n",
    "avg_rating_per_city = df.groupby(\"City\")[\"Aggregate rating\"].mean().sort_values(ascending=False)\n",
    "\n",
    "# Display the result\n",
    "avg_rating_per_city\n",
    "\n",
    "\n",
    "# Select top and bottom 5 cities for visualization\n",
    "top_cities = avg_rating_per_city.head(5)\n",
    "bottom_cities = avg_rating_per_city.tail(5)\n",
    "\n",
    "city =  [[top_cities,bottom_cities]]\n",
    "\n",
    "# Create subplots\n",
    "fig, ax = plt.subplots(1, 2, figsize=(12, 5))\n",
    "\n",
    "# Top Cities Bar Plot\n",
    "ax[0].barh(top_cities.index, top_cities.values, color=\"green\", alpha=0.9)\n",
    "ax[0].set_title(\"Top 5 Cities by Average Restaurant Rating\")\n",
    "ax[0].set_xlabel(\"Average Rating\")\n",
    "ax[0].invert_yaxis()  # Invert for better readability\n",
    "\n",
    "# Bottom Cities Bar Plot\n",
    "ax[1].bar(bottom_cities.index, bottom_cities.values, color=\"red\", alpha=0.9)\n",
    "ax[1].set_title(\"Bottom 5 Cities by Average Restaurant Rating\")\n",
    "ax[1].set_xlabel(\"Average Rating\")\n",
    "ax[1].invert_yaxis()\n",
    "\n",
    "# Adjust layout and show plot\n",
    "plt.tight_layout()\n",
    "plt.show()\n",
    "\n",
    "avg_rating_per_city = pd.DataFrame(avg_rating_per_city)\n",
    "avg_rating_per_city"
   ]
  },
  {
   "cell_type": "markdown",
   "id": "f6a8ea3c-d8d4-437a-9a92-2f34e8ee42dc",
   "metadata": {},
   "source": [
    "# 2c.) Determine the city with the highest average rating."
   ]
  },
  {
   "cell_type": "code",
   "execution_count": 9,
   "id": "a0ac7d3d-4333-4fba-be94-9ac2d130abb7",
   "metadata": {},
   "outputs": [
    {
     "name": "stdout",
     "output_type": "stream",
     "text": [
      "The city with the highest average rating is: Aggregate rating    Inner City\n",
      "dtype: object with a total of : Aggregate rating    4.9\n",
      "dtype: float64 average rating\n"
     ]
    },
    {
     "data": {
      "image/png": "[encoded data removed]",
      "text/plain": [
       "<Figure size 640x480 with 1 Axes>"
      ]
     },
     "metadata": {},
     "output_type": "display_data"
    },
    {
     "data": {
      "text/plain": [
       "(Aggregate rating    Inner City\n",
       " dtype: object,\n",
       " Aggregate rating    4.9\n",
       " dtype: float64)"
      ]
     },
     "execution_count": 9,
     "metadata": {},
     "output_type": "execute_result"
    }
   ],
   "source": [
    "# Get the city with the highest average rating\n",
    "top_rated_city = avg_rating_per_city.idxmax()\n",
    "top_rated_city_rating = avg_rating_per_city.max()\n",
    "\n",
    "# Display the result\n",
    "Highest_city = top_rated_city, top_rated_city_rating\n",
    "\n",
    "\n",
    "#print(\"City with the highest average rating is:\")\n",
    "#print (Highest_city)\n",
    "print(f\"The city with the highest average rating is: {top_rated_city} with a total of : {top_rated_city_rating} average rating\")\n",
    "     \n",
    "\n",
    "# Top Cities Bar Plot\n",
    "plt.barh(top_cities.index, top_cities.values, color=\"green\", alpha=0.9)\n",
    "plt.title(\"Top 5 Cities by Average Restaurant Rating\")\n",
    "plt.xlabel(\"Average Rating\")\n",
    "plt.tight_layout()\n",
    "plt.show()\n",
    "Highest_city"
   ]
  },
  {
   "cell_type": "markdown",
   "id": "7a5ed675-0f22-4567-9a35-6f4de4a2af32",
   "metadata": {},
   "source": [
    "# Task 3 : Price Range Distribution"
   ]
  },
  {
   "cell_type": "markdown",
   "id": "a569fbdc-5c88-4cf4-b01d-38af2e60b028",
   "metadata": {},
   "source": [
    "# 3a.) Create a histogram or bar chart to visualize the distribution of price ranges among the restaurants"
   ]
  },
  {
   "cell_type": "code",
   "execution_count": 10,
   "id": "d34edba9-cecd-4ae8-b8ae-cbe3017d779c",
   "metadata": {},
   "outputs": [
    {
     "data": {
      "image/png": "[encoded data removed]",
      "text/plain": [
       "<Figure size 800x500 with 1 Axes>"
      ]
     },
     "metadata": {},
     "output_type": "display_data"
    }
   ],
   "source": [
    "# Plot the distribution of price ranges using a bar chart\n",
    "\n",
    "plt.figure(figsize=(8, 5))\n",
    "sns.countplot(x=\"Price range\", data=df, palette=\"viridis\")\n",
    "\n",
    "# Add labels and title\n",
    "plt.xlabel(\"Price Range\")\n",
    "plt.ylabel(\"Number of Restaurants\")\n",
    "plt.title(\"Distribution of Price Ranges Among Restaurants\")\n",
    "\n",
    "# Show plot\n",
    "plt.show()\n"
   ]
  },
  {
   "cell_type": "markdown",
   "id": "9bdd741f-fe06-4eae-8d27-20da364b26c0",
   "metadata": {},
   "source": [
    "# 3b.) Calculate the percentage of restaurants in each price range category.\n"
   ]
  },
  {
   "cell_type": "code",
   "execution_count": 11,
   "id": "f3114b2d-7f25-4ab5-9fa7-3870bdb1a41b",
   "metadata": {},
   "outputs": [
    {
     "name": "stdout",
     "output_type": "stream",
     "text": [
      "Percentage of restaurants in each price range category:\n",
      "Price range\n",
      "1    46.51%\n",
      "2    32.62%\n",
      "3    14.72%\n",
      "4     6.14%\n",
      "Name: count, dtype: object\n"
     ]
    },
    {
     "data": {
      "image/png": "[encoded data removed]",
      "text/plain": [
       "<Figure size 800x500 with 1 Axes>"
      ]
     },
     "metadata": {},
     "output_type": "display_data"
    }
   ],
   "source": [
    "# Count total number of restaurants\n",
    "total_restaurants = len(df)\n",
    "\n",
    "# Count the number of restaurants in each price range category\n",
    "price_range_counts = df[\"Price range\"].value_counts()\n",
    "\n",
    "# Calculate the percentage of restaurants in each price range\n",
    "price_range_percentages = (price_range_counts / total_restaurants) * 100\n",
    "\n",
    "# Display results\n",
    "#print(price_range_percentages)\n",
    "print(\"Percentage of restaurants in each price range category:\")\n",
    "print(price_range_percentages.round(2).astype(str) + \"%\")\n",
    "\n",
    "# Create a bar chart\n",
    "plt.figure(figsize=(8, 5))\n",
    "plt.bar(price_range_percentages.index, price_range_percentages.values, color=\"blue\", alpha=0.9)\n",
    "\n",
    "# Add labels and title\n",
    "plt.xlabel(\"Price Range\")\n",
    "plt.ylabel(\"Percentage of Restaurants\")\n",
    "plt.title(\"Distribution of Restaurants by Price Range\")\n",
    "plt.xticks(price_range_percentages.index)  # Ensure proper tick labels\n",
    "\n",
    "# Show percentage values on bars\n",
    "for i, v in enumerate(price_range_percentages.values):\n",
    "    plt.text(price_range_percentages.index[i], v + 0.5, f\"{v:.1f}%\", ha='center')\n",
    "\n",
    "# Display the plot\n",
    "plt.show()\n"
   ]
  },
  {
   "cell_type": "markdown",
   "id": "aee565ab-6cc2-469b-8b2b-aceab90f4c0d",
   "metadata": {},
   "source": [
    "# Task 4: Online Delivery"
   ]
  },
  {
   "cell_type": "markdown",
   "id": "4f93908a-5283-4c4a-b90c-b2d11f3065f9",
   "metadata": {},
   "source": [
    "# 4a.) Determine the percentage of restaurants that offer online delivery"
   ]
  },
  {
   "cell_type": "code",
   "execution_count": 12,
   "id": "c412be3f-3a07-474c-a509-11a4525c8756",
   "metadata": {},
   "outputs": [
    {
     "name": "stdout",
     "output_type": "stream",
     "text": [
      "Percentage of restaurants offering online delivery is : 25.69%\n"
     ]
    },
    {
     "data": {
      "image/png": "[encoded data removed]",
      "text/plain": [
       "<Figure size 600x400 with 1 Axes>"
      ]
     },
     "metadata": {},
     "output_type": "display_data"
    }
   ],
   "source": [
    "# Count the number of restaurants that offer online delivery\n",
    "online_delivery_counts = df[\"Has Online delivery\"].value_counts(normalize=True) * 100\n",
    "\n",
    "# Extract the percentage of \"Yes\" responses\n",
    "online_delivery_percentage = online_delivery_counts.get(\"Yes\", 0)\n",
    "\n",
    "# Display result\n",
    "print(f\"Percentage of restaurants offering online delivery is : {online_delivery_percentage:.2f}%\")\n",
    "\n",
    "\n",
    "# Plot bar chart\n",
    "plt.figure(figsize=(6, 4))\n",
    "online_delivery_counts.plot(kind=\"bar\", color=[\"green\", \"red\"], alpha=0.9)\n",
    "\n",
    "# Customize plot\n",
    "plt.title(\"Percentage of Restaurants Offering Online Delivery\")\n",
    "plt.xlabel(\"Online Delivery Availability\")\n",
    "plt.ylabel(\"Percentage %\")\n",
    "plt.xticks(rotation=0)\n",
    "plt.ylim(0, 100)\n",
    "\n",
    "# Display percentage values on bars\n",
    "for index, value in enumerate(online_delivery_counts):\n",
    "    plt.text(index, value + 1, f\"{value:.2f}%\", ha=\"center\", fontsize=12)\n",
    "\n",
    "# Show plot\n",
    "plt.show()\n"
   ]
  },
  {
   "cell_type": "markdown",
   "id": "ae4d057d-43c9-48d6-a84c-b12301f61f2d",
   "metadata": {},
   "source": [
    "# 4b.) Compare the average ratings of restaurants with and without online delivery"
   ]
  },
  {
   "cell_type": "code",
   "execution_count": 16,
   "id": "69d46ac4-420a-4cc9-a7c4-a984e884e42d",
   "metadata": {},
   "outputs": [
    {
     "name": "stdout",
     "output_type": "stream",
     "text": [
      "\n",
      "Comparing the average ratings of restaurants with and without online delivery:\n",
      "Has Online delivery\n",
      "No     2.463517\n",
      "Yes    3.248837\n",
      "Name: Aggregate rating, dtype: float64\n"
     ]
    },
    {
     "data": {
      "image/png": "[encoded data removed]",
      "text/plain": [
       "<Figure size 600x400 with 1 Axes>"
      ]
     },
     "metadata": {},
     "output_type": "display_data"
    }
   ],
   "source": [
    "# Group data by online delivery status and calculate average rating\n",
    "online_delivery_comparison = df.groupby(\"Has Online delivery\")[\"Aggregate rating\"].mean()\n",
    "\n",
    "\n",
    "\n",
    "\n",
    "print(\"\\nComparing the average ratings of restaurants with and without online delivery:\")\n",
    "print(online_delivery_comparison)\n",
    "\n",
    "# Create a bar plot\n",
    "plt.figure(figsize=(6, 4))\n",
    "sns.barplot(\n",
    "    x=online_delivery_comparison.index, \n",
    "    y=online_delivery_comparison.values, \n",
    "    palette=[\"red\", \"green\"]\n",
    ")\n",
    "\n",
    "plt.xlabel(\"Has Online Delivery\")\n",
    "plt.ylabel(\"Average Rating\")\n",
    "plt.title(\"Comparison of Average Ratings: Online Delivery vs No Online Delivery\")\n",
    "\n",
    "\n",
    "# Display values on bars\n",
    "for index, value in enumerate(online_delivery_comparison):\n",
    "    plt.text(index, value + 0.009, f\"{value:.1f}\", ha=\"center\", fontsize=10)\n",
    "\n",
    "\n",
    "plt.show()\n"
   ]
  },
  {
   "cell_type": "code",
   "execution_count": null,
   "id": "f858abca-a4e3-4d4b-b54c-112d57a50d5b",
   "metadata": {},
   "outputs": [],
   "source": []
  },
  {
   "cell_type": "code",
   "execution_count": null,
   "id": "03940682-cae7-47a0-936c-f53b0fef19a7",
   "metadata": {},
   "outputs": [],
   "source": []
  },
  {
   "cell_type": "code",
   "execution_count": null,
   "id": "d4d3928e-4233-4bf1-bfeb-bfb28997c48f",
   "metadata": {},
   "outputs": [],
   "source": []
  },
  {
   "cell_type": "code",
   "execution_count": null,
   "id": "f8af096d-88c4-407c-9213-253e02823b82",
   "metadata": {},
   "outputs": [],
   "source": []
  }
 ],
 "metadata": {
  "kernelspec": {
   "display_name": "Python 3 (ipykernel)",
   "language": "python",
   "name": "python3"
  },
  "language_info": {
   "codemirror_mode": {
    "name": "ipython",
    "version": 3
   },
   "file_extension": ".py",
   "mimetype": "text/x-python",
   "name": "python",
   "nbconvert_exporter": "python",
   "pygments_lexer": "ipython3",
   "version": "3.12.7"
  }
 },
 "nbformat": 4,
 "nbformat_minor": 5
}
